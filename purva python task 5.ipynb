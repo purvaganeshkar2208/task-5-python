{
 "cells": [
  {
   "cell_type": "code",
   "execution_count": 36,
   "id": "86c4f410-5a61-4b81-93a8-c8ee1d97e147",
   "metadata": {},
   "outputs": [
    {
     "name": "stdout",
     "output_type": "stream",
     "text": [
      "\n",
      "*\n",
      "**\n",
      "***\n",
      "****\n",
      "*****\n",
      "******\n"
     ]
    }
   ],
   "source": [
    "for t in range(7):\n",
    "              print('*' *t)"
   ]
  },
  {
   "cell_type": "code",
   "execution_count": null,
   "id": "4ca73e72-8e99-4297-afc7-7cd09409e52e",
   "metadata": {},
   "outputs": [],
   "source": []
  }
 ],
 "metadata": {
  "kernelspec": {
   "display_name": "Python 3 (ipykernel)",
   "language": "python",
   "name": "python3"
  },
  "language_info": {
   "codemirror_mode": {
    "name": "ipython",
    "version": 3
   },
   "file_extension": ".py",
   "mimetype": "text/x-python",
   "name": "python",
   "nbconvert_exporter": "python",
   "pygments_lexer": "ipython3",
   "version": "3.12.4"
  }
 },
 "nbformat": 4,
 "nbformat_minor": 5
}
